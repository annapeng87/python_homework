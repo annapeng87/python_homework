{
 "cells": [
  {
   "cell_type": "code",
   "execution_count": 103,
   "metadata": {},
   "outputs": [],
   "source": [
    "import numpy"
   ]
  },
  {
   "cell_type": "code",
   "execution_count": 104,
   "metadata": {},
   "outputs": [],
   "source": [
    "import numpy_financial as npf"
   ]
  },
  {
   "cell_type": "code",
   "execution_count": 105,
   "metadata": {},
   "outputs": [],
   "source": [
    "from pathlib import Path"
   ]
  },
  {
   "cell_type": "code",
   "execution_count": 106,
   "metadata": {},
   "outputs": [],
   "source": [
    "import csv"
   ]
  },
  {
   "cell_type": "code",
   "execution_count": 107,
   "metadata": {},
   "outputs": [],
   "source": [
    "import os"
   ]
  },
  {
   "cell_type": "code",
   "execution_count": 108,
   "metadata": {},
   "outputs": [],
   "source": [
    "csvpath = Path('../../../../../../02-Homework/02-Python/Instructions/PyBank/Resources/budget_data.csv')"
   ]
  },
  {
   "cell_type": "code",
   "execution_count": 117,
   "metadata": {},
   "outputs": [
    {
     "name": "stdout",
     "output_type": "stream",
     "text": [
      "Financial Analysis:\n",
      "total months: 86\n",
      "total: $ 38382578\n",
      "average change: $ -2315.1176470588234\n",
      "greatest increase in profits: Feb-2012 1926159\n",
      "greatest decrease in profits: Sep-2013 -2196167\n"
     ]
    }
   ],
   "source": [
    "\n",
    "dates = []\n",
    "count = 0\n",
    "totals = []\n",
    "mysum = 0\n",
    "avg = 0\n",
    "change = []\n",
    "\n",
    "\n",
    "with open(csvpath, 'r') as csvfile:\n",
    "    csvreader = csv.reader(csvfile,delimiter=',')\n",
    "    next(csvreader)\n",
    "\n",
    "\n",
    "    for row in csvreader:\n",
    "        date = (row[0])\n",
    "        dates.append(date)\n",
    "        count = count + 1\n",
    "        \n",
    "        pl = int(row[1])\n",
    "        totals.append(pl)\n",
    "        mysum = mysum + pl\n",
    "        \n",
    "    change = numpy.array(totals)\n",
    "    a = numpy.diff(change)\n",
    "    avg = numpy.average(change)\n",
    "    avg = (numpy.sum(a))/(count-1)\n",
    "    \n",
    "    increase = max(a)\n",
    "    decrease = min(a)\n",
    "        \n",
    "    for x in range(len(a)):\n",
    "        if a[x] == increase:\n",
    "            dateincrease = dates[x + 1] \n",
    "        \n",
    "    for x in range(len(a)):\n",
    "        if a[x] == decrease:\n",
    "            datedecrease = dates[x + 1]\n",
    "\n",
    "\n",
    "        \n",
    "    print(\"Financial Analysis:\")    \n",
    "    print(f'total months:', count)\n",
    "    print(f'total: $', mysum)\n",
    "    print(f'average change: $', avg)\n",
    "    print(f'greatest increase in profits:', dateincrease, increase)\n",
    "    print(f'greatest decrease in profits:', datedecrease, decrease)"
   ]
  },
  {
   "cell_type": "raw",
   "metadata": {},
   "source": []
  },
  {
   "cell_type": "code",
   "execution_count": null,
   "metadata": {},
   "outputs": [],
   "source": []
  }
 ],
 "metadata": {
  "kernelspec": {
   "display_name": "Python 3",
   "language": "python",
   "name": "python3"
  },
  "language_info": {
   "codemirror_mode": {
    "name": "ipython",
    "version": 3
   },
   "file_extension": ".py",
   "mimetype": "text/x-python",
   "name": "python",
   "nbconvert_exporter": "python",
   "pygments_lexer": "ipython3",
   "version": "3.8.3"
  }
 },
 "nbformat": 4,
 "nbformat_minor": 4
}
